{
 "cells": [
  {
   "cell_type": "markdown",
   "source": [
    "# CPSC 4970 AI + ML: Module 3"
   ],
   "metadata": {
    "collapsed": false,
    "pycharm": {
     "name": "#%% md\n"
    }
   }
  },
  {
   "cell_type": "code",
   "execution_count": 1,
   "outputs": [],
   "source": [
    "import sklearn.datasets\n",
    "from IPython.core.display import display\n",
    "from sklearn.linear_model import LinearRegression\n",
    "from sklearn.metrics import mean_squared_error\n",
    "from sklearn.model_selection import train_test_split\n",
    "import matplotlib.pyplot as plt\n",
    "from sklearn.preprocessing import PolynomialFeatures\n",
    "import mglearn.datasets\n",
    "from sklearn.linear_model import Ridge, Lasso\n",
    "from sklearn.preprocessing import StandardScaler\n",
    "import pandas as pd\n",
    "from sklearn.compose import TransformedTargetRegressor\n",
    "\n",
    "from math import sqrt\n",
    "\n",
    "plt.style.use('dark_background')"
   ],
   "metadata": {
    "collapsed": false,
    "pycharm": {
     "name": "#%%\n"
    }
   }
  },
  {
   "cell_type": "markdown",
   "source": [
    "## Load data"
   ],
   "metadata": {
    "collapsed": false,
    "pycharm": {
     "name": "#%% md\n"
    }
   }
  },
  {
   "cell_type": "code",
   "execution_count": 2,
   "outputs": [
    {
     "name": "stdout",
     "output_type": "stream",
     "text": [
      "<class 'pandas.core.frame.DataFrame'>\n",
      "RangeIndex: 442 entries, 0 to 441\n",
      "Data columns (total 11 columns):\n",
      " #   Column  Non-Null Count  Dtype  \n",
      "---  ------  --------------  -----  \n",
      " 0   age     442 non-null    float64\n",
      " 1   sex     442 non-null    float64\n",
      " 2   bmi     442 non-null    float64\n",
      " 3   bp      442 non-null    float64\n",
      " 4   s1      442 non-null    float64\n",
      " 5   s2      442 non-null    float64\n",
      " 6   s3      442 non-null    float64\n",
      " 7   s4      442 non-null    float64\n",
      " 8   s5      442 non-null    float64\n",
      " 9   s6      442 non-null    float64\n",
      " 10  target  442 non-null    float64\n",
      "dtypes: float64(11)\n",
      "memory usage: 38.1 KB\n"
     ]
    },
    {
     "data": {
      "text/plain": "None"
     },
     "metadata": {},
     "output_type": "display_data"
    },
    {
     "data": {
      "text/plain": "93      96.0\n245    125.0\n272    182.0\n241    177.0\n92      48.0\n18      97.0\n145    259.0\n150    288.0\n322    242.0\n393     69.0\nName: target, dtype: float64"
     },
     "metadata": {},
     "output_type": "display_data"
    }
   ],
   "source": [
    "db = sklearn.datasets.load_diabetes(as_frame=True)['frame']\n",
    "display(db.info())\n",
    "train, test = train_test_split(db, test_size=0.33, random_state=0)\n",
    "# X = everything but last column\n",
    "X_train = train.iloc[:, :-1]\n",
    "X_test = test.iloc[:, :-1]\n",
    "# y = target column\n",
    "y_train = train['target']\n",
    "y_test = test['target']\n",
    "\n",
    "display(y_train.head(10))"
   ],
   "metadata": {
    "collapsed": false,
    "pycharm": {
     "name": "#%%\n"
    }
   }
  },
  {
   "cell_type": "markdown",
   "source": [
    "## L2 Regularization: Ridge"
   ],
   "metadata": {
    "collapsed": false
   }
  },
  {
   "cell_type": "code",
   "execution_count": 3,
   "outputs": [
    {
     "name": "stdout",
     "output_type": "stream",
     "text": [
      "Training MSE:  2803.0139148186577\n",
      "Training R2:  0.5517996422177895\n",
      "152.11070640884333 [ -23.44310726 -161.17494279  530.52058493  264.29851737  -60.08992941\n",
      "  -97.28632531 -206.8758798    71.47924174  481.71455991   64.99995236]\n"
     ]
    },
    {
     "data": {
      "text/plain": "<matplotlib.collections.PathCollection at 0x7ff8e093f7c0>"
     },
     "execution_count": 3,
     "metadata": {},
     "output_type": "execute_result"
    },
    {
     "data": {
      "text/plain": "<Figure size 432x288 with 1 Axes>",
      "image/png": "[encoded data removed]"
     },
     "metadata": {},
     "output_type": "display_data"
    }
   ],
   "source": [
    "lr = Ridge(alpha=0.1).fit(X_train, y_train)\n",
    "train_predicted = lr.predict(X_train)\n",
    "print(\"Training MSE: \", mean_squared_error(y_train, train_predicted))\n",
    "print(\"Training R2: \", lr.score(X_train, y_train))\n",
    "print(lr.intercept_, lr.coef_)\n",
    "plt.scatter(range(len(lr.coef_)), lr.coef_)"
   ],
   "metadata": {
    "collapsed": false,
    "pycharm": {
     "name": "#%%\n"
    }
   }
  },
  {
   "cell_type": "markdown",
   "source": [
    "## L1 Regularization: Lasso"
   ],
   "metadata": {
    "collapsed": false
   }
  },
  {
   "cell_type": "code",
   "execution_count": 4,
   "outputs": [
    {
     "name": "stdout",
     "output_type": "stream",
     "text": [
      "Training MSE:  2802.441978212913\n",
      "Training R2:  0.5518910945612717\n",
      "152.19718543432265 [  -0.         -115.57697621  583.86628386  228.46862953 -109.30490161\n",
      "   -0.         -182.92422888    0.          567.21633773    0.        ]\n"
     ]
    },
    {
     "data": {
      "text/plain": "<matplotlib.collections.PathCollection at 0x7ff9206c8eb0>"
     },
     "execution_count": 4,
     "metadata": {},
     "output_type": "execute_result"
    },
    {
     "data": {
      "text/plain": "<Figure size 432x288 with 1 Axes>",
      "image/png": "[encoded data removed]"
     },
     "metadata": {},
     "output_type": "display_data"
    }
   ],
   "source": [
    "lr = Lasso(alpha=0.1, max_iter=100000).fit(X_train, y_train)\n",
    "train_predicted = lr.predict(X_train)\n",
    "print(\"Training MSE: \", mean_squared_error(y_train, train_predicted))\n",
    "print(\"Training R2: \", lr.score(X_train, y_train))\n",
    "print(lr.intercept_, lr.coef_)\n",
    "plt.scatter(range(len(lr.coef_)), lr.coef_)"
   ],
   "metadata": {
    "collapsed": false,
    "pycharm": {
     "name": "#%%\n"
    }
   }
  },
  {
   "cell_type": "markdown",
   "source": [
    "## Preprocessing using the standard scaler\n",
    "\n",
    "<https://scikit-learn.org/stable/modules/generated/sklearn.preprocessing.StandardScaler.html#sklearn.preprocessing.StandardScaler>"
   ],
   "metadata": {
    "collapsed": false,
    "pycharm": {
     "name": "#%% md\n"
    }
   }
  },
  {
   "cell_type": "code",
   "execution_count": 5,
   "outputs": [
    {
     "data": {
      "text/plain": "              age         sex         bmi          bp          s1          s2  \\\ncount  296.000000  296.000000  296.000000  296.000000  296.000000  296.000000   \nmean    -0.000250    0.001731   -0.000926    0.001591   -0.000839   -0.001474   \nstd      0.048678    0.047724    0.048273    0.047166    0.047392    0.047593   \nmin     -0.107226   -0.044642   -0.084886   -0.108957   -0.108893   -0.115613   \n25%     -0.038207   -0.044642   -0.035307   -0.033214   -0.034936   -0.032159   \n50%      0.005383   -0.044642   -0.008362   -0.002228   -0.004321   -0.004915   \n75%      0.035352    0.050680    0.030440    0.035644    0.026294    0.023581   \nmax      0.110727    0.050680    0.170555    0.132044    0.153914    0.198788   \n\n               s3          s4          s5          s6      target  \ncount  296.000000  296.000000  296.000000  296.000000  296.000000  \nmean     0.001245   -0.000696   -0.000741   -0.000504  151.263514  \nstd      0.048449    0.048677    0.048882    0.051120   79.215720  \nmin     -0.102307   -0.076395   -0.126097   -0.137767   25.000000  \n25%     -0.032356   -0.039493   -0.034847   -0.038357   83.000000  \n50%     -0.004744   -0.002592   -0.004225   -0.001078  140.000000  \n75%      0.030232    0.034309    0.030093    0.032059  217.500000  \nmax      0.181179    0.185234    0.133599    0.135612  346.000000  ",
      "text/html": "<div>\n<style scoped>\n    .dataframe tbody tr th:only-of-type {\n        vertical-align: middle;\n    }\n\n    .dataframe tbody tr th {\n        vertical-align: top;\n    }\n\n    .dataframe thead th {\n        text-align: right;\n    }\n</style>\n<table border=\"1\" class=\"dataframe\">\n  <thead>\n    <tr style=\"text-align: right;\">\n      <th></th>\n      <th>age</th>\n      <th>sex</th>\n      <th>bmi</th>\n      <th>bp</th>\n      <th>s1</th>\n      <th>s2</th>\n      <th>s3</th>\n      <th>s4</th>\n      <th>s5</th>\n      <th>s6</th>\n      <th>target</th>\n    </tr>\n  </thead>\n  <tbody>\n    <tr>\n      <th>count</th>\n      <td>296.000000</td>\n      <td>296.000000</td>\n      <td>296.000000</td>\n      <td>296.000000</td>\n      <td>296.000000</td>\n      <td>296.000000</td>\n      <td>296.000000</td>\n      <td>296.000000</td>\n      <td>296.000000</td>\n      <td>296.000000</td>\n      <td>296.000000</td>\n    </tr>\n    <tr>\n      <th>mean</th>\n      <td>-0.000250</td>\n      <td>0.001731</td>\n      <td>-0.000926</td>\n      <td>0.001591</td>\n      <td>-0.000839</td>\n      <td>-0.001474</td>\n      <td>0.001245</td>\n      <td>-0.000696</td>\n      <td>-0.000741</td>\n      <td>-0.000504</td>\n      <td>151.263514</td>\n    </tr>\n    <tr>\n      <th>std</th>\n      <td>0.048678</td>\n      <td>0.047724</td>\n      <td>0.048273</td>\n      <td>0.047166</td>\n      <td>0.047392</td>\n      <td>0.047593</td>\n      <td>0.048449</td>\n      <td>0.048677</td>\n      <td>0.048882</td>\n      <td>0.051120</td>\n      <td>79.215720</td>\n    </tr>\n    <tr>\n      <th>min</th>\n      <td>-0.107226</td>\n      <td>-0.044642</td>\n      <td>-0.084886</td>\n      <td>-0.108957</td>\n      <td>-0.108893</td>\n      <td>-0.115613</td>\n      <td>-0.102307</td>\n      <td>-0.076395</td>\n      <td>-0.126097</td>\n      <td>-0.137767</td>\n      <td>25.000000</td>\n    </tr>\n    <tr>\n      <th>25%</th>\n      <td>-0.038207</td>\n      <td>-0.044642</td>\n      <td>-0.035307</td>\n      <td>-0.033214</td>\n      <td>-0.034936</td>\n      <td>-0.032159</td>\n      <td>-0.032356</td>\n      <td>-0.039493</td>\n      <td>-0.034847</td>\n      <td>-0.038357</td>\n      <td>83.000000</td>\n    </tr>\n    <tr>\n      <th>50%</th>\n      <td>0.005383</td>\n      <td>-0.044642</td>\n      <td>-0.008362</td>\n      <td>-0.002228</td>\n      <td>-0.004321</td>\n      <td>-0.004915</td>\n      <td>-0.004744</td>\n      <td>-0.002592</td>\n      <td>-0.004225</td>\n      <td>-0.001078</td>\n      <td>140.000000</td>\n    </tr>\n    <tr>\n      <th>75%</th>\n      <td>0.035352</td>\n      <td>0.050680</td>\n      <td>0.030440</td>\n      <td>0.035644</td>\n      <td>0.026294</td>\n      <td>0.023581</td>\n      <td>0.030232</td>\n      <td>0.034309</td>\n      <td>0.030093</td>\n      <td>0.032059</td>\n      <td>217.500000</td>\n    </tr>\n    <tr>\n      <th>max</th>\n      <td>0.110727</td>\n      <td>0.050680</td>\n      <td>0.170555</td>\n      <td>0.132044</td>\n      <td>0.153914</td>\n      <td>0.198788</td>\n      <td>0.181179</td>\n      <td>0.185234</td>\n      <td>0.133599</td>\n      <td>0.135612</td>\n      <td>346.000000</td>\n    </tr>\n  </tbody>\n</table>\n</div>"
     },
     "metadata": {},
     "output_type": "display_data"
    },
    {
     "data": {
      "text/plain": "                  0             1             2             3             4  \\\ncount  2.960000e+02  2.960000e+02  2.960000e+02  2.960000e+02  2.960000e+02   \nmean  -2.100422e-17 -7.201447e-17  2.400482e-17 -1.050211e-17 -1.200241e-17   \nstd    1.001693e+00  1.001693e+00  1.001693e+00  1.001693e+00  1.001693e+00   \nmin   -2.201328e+00 -9.733285e-01 -1.742227e+00 -2.347793e+00 -2.283887e+00   \n25%   -7.810837e-01 -9.733285e-01 -7.134231e-01 -7.391764e-01 -7.206846e-01   \n50%    1.159125e-01 -9.733285e-01 -1.542904e-01 -8.110603e-02 -7.359138e-02   \n75%    7.325975e-01  1.027402e+00  6.508607e-01  7.232023e-01  5.735018e-01   \nmax    2.283654e+00  1.027402e+00  3.558351e+00  2.770532e+00  3.270935e+00   \n\n                  5             6             7           8             9  \ncount  2.960000e+02  2.960000e+02  2.960000e+02  296.000000  2.960000e+02  \nmean  -2.100422e-17 -9.001808e-18  2.700542e-17    0.000000 -1.200241e-17  \nstd    1.001693e+00  1.001693e+00  1.001693e+00    1.001693  1.001693e+00  \nmin   -2.402296e+00 -2.140974e+00 -1.557740e+00   -2.568797 -2.689643e+00  \n25%   -6.458277e-01 -6.947140e-01 -7.983798e-01   -0.698897 -7.417152e-01  \n50%   -7.242168e-02 -1.238219e-01 -3.901982e-02   -0.071383 -1.124226e-02  \n75%    5.273479e-01  5.993081e-01  7.203402e-01    0.631858  6.380670e-01  \nmax    4.214942e+00  3.720185e+00  3.826123e+00    2.752890  2.667158e+00  ",
      "text/html": "<div>\n<style scoped>\n    .dataframe tbody tr th:only-of-type {\n        vertical-align: middle;\n    }\n\n    .dataframe tbody tr th {\n        vertical-align: top;\n    }\n\n    .dataframe thead th {\n        text-align: right;\n    }\n</style>\n<table border=\"1\" class=\"dataframe\">\n  <thead>\n    <tr style=\"text-align: right;\">\n      <th></th>\n      <th>0</th>\n      <th>1</th>\n      <th>2</th>\n      <th>3</th>\n      <th>4</th>\n      <th>5</th>\n      <th>6</th>\n      <th>7</th>\n      <th>8</th>\n      <th>9</th>\n    </tr>\n  </thead>\n  <tbody>\n    <tr>\n      <th>count</th>\n      <td>2.960000e+02</td>\n      <td>2.960000e+02</td>\n      <td>2.960000e+02</td>\n      <td>2.960000e+02</td>\n      <td>2.960000e+02</td>\n      <td>2.960000e+02</td>\n      <td>2.960000e+02</td>\n      <td>2.960000e+02</td>\n      <td>296.000000</td>\n      <td>2.960000e+02</td>\n    </tr>\n    <tr>\n      <th>mean</th>\n      <td>-2.100422e-17</td>\n      <td>-7.201447e-17</td>\n      <td>2.400482e-17</td>\n      <td>-1.050211e-17</td>\n      <td>-1.200241e-17</td>\n      <td>-2.100422e-17</td>\n      <td>-9.001808e-18</td>\n      <td>2.700542e-17</td>\n      <td>0.000000</td>\n      <td>-1.200241e-17</td>\n    </tr>\n    <tr>\n      <th>std</th>\n      <td>1.001693e+00</td>\n      <td>1.001693e+00</td>\n      <td>1.001693e+00</td>\n      <td>1.001693e+00</td>\n      <td>1.001693e+00</td>\n      <td>1.001693e+00</td>\n      <td>1.001693e+00</td>\n      <td>1.001693e+00</td>\n      <td>1.001693</td>\n      <td>1.001693e+00</td>\n    </tr>\n    <tr>\n      <th>min</th>\n      <td>-2.201328e+00</td>\n      <td>-9.733285e-01</td>\n      <td>-1.742227e+00</td>\n      <td>-2.347793e+00</td>\n      <td>-2.283887e+00</td>\n      <td>-2.402296e+00</td>\n      <td>-2.140974e+00</td>\n      <td>-1.557740e+00</td>\n      <td>-2.568797</td>\n      <td>-2.689643e+00</td>\n    </tr>\n    <tr>\n      <th>25%</th>\n      <td>-7.810837e-01</td>\n      <td>-9.733285e-01</td>\n      <td>-7.134231e-01</td>\n      <td>-7.391764e-01</td>\n      <td>-7.206846e-01</td>\n      <td>-6.458277e-01</td>\n      <td>-6.947140e-01</td>\n      <td>-7.983798e-01</td>\n      <td>-0.698897</td>\n      <td>-7.417152e-01</td>\n    </tr>\n    <tr>\n      <th>50%</th>\n      <td>1.159125e-01</td>\n      <td>-9.733285e-01</td>\n      <td>-1.542904e-01</td>\n      <td>-8.110603e-02</td>\n      <td>-7.359138e-02</td>\n      <td>-7.242168e-02</td>\n      <td>-1.238219e-01</td>\n      <td>-3.901982e-02</td>\n      <td>-0.071383</td>\n      <td>-1.124226e-02</td>\n    </tr>\n    <tr>\n      <th>75%</th>\n      <td>7.325975e-01</td>\n      <td>1.027402e+00</td>\n      <td>6.508607e-01</td>\n      <td>7.232023e-01</td>\n      <td>5.735018e-01</td>\n      <td>5.273479e-01</td>\n      <td>5.993081e-01</td>\n      <td>7.203402e-01</td>\n      <td>0.631858</td>\n      <td>6.380670e-01</td>\n    </tr>\n    <tr>\n      <th>max</th>\n      <td>2.283654e+00</td>\n      <td>1.027402e+00</td>\n      <td>3.558351e+00</td>\n      <td>2.770532e+00</td>\n      <td>3.270935e+00</td>\n      <td>4.214942e+00</td>\n      <td>3.720185e+00</td>\n      <td>3.826123e+00</td>\n      <td>2.752890</td>\n      <td>2.667158e+00</td>\n    </tr>\n  </tbody>\n</table>\n</div>"
     },
     "metadata": {},
     "output_type": "display_data"
    },
    {
     "data": {
      "text/plain": "'Training MSE: '"
     },
     "metadata": {},
     "output_type": "display_data"
    },
    {
     "data": {
      "text/plain": "2757.5878003192224"
     },
     "metadata": {},
     "output_type": "display_data"
    },
    {
     "name": "stdout",
     "output_type": "stream",
     "text": [
      "Training R2:  0.5590632525279866\n"
     ]
    }
   ],
   "source": [
    "display(train.describe())\n",
    "scaler = StandardScaler().fit(X_train)\n",
    "X_train_scaled = scaler.transform(X_train)\n",
    "X_test_scaled = scaler.transform(X_test)\n",
    "display(pd.DataFrame(X_train_scaled).describe())\n",
    "lr = LinearRegression().fit(X_train_scaled, y_train)\n",
    "train_predicted = lr.predict(X_train_scaled)\n",
    "display(\"Training MSE: \", mean_squared_error(y_train, train_predicted))\n",
    "print(\"Training R2: \", lr.score(X_train_scaled, y_train))"
   ],
   "metadata": {
    "collapsed": false,
    "pycharm": {
     "name": "#%%\n"
    }
   }
  },
  {
   "cell_type": "markdown",
   "source": [
    "## Transforming the target\n",
    "\n",
    "<https://scikit-learn.org/stable/modules/generated/sklearn.compose.TransformedTargetRegressor.html#sklearn.compose.TransformedTargetRegressor>"
   ],
   "metadata": {
    "collapsed": false,
    "pycharm": {
     "name": "#%% md\n"
    }
   }
  },
  {
   "cell_type": "code",
   "execution_count": 6,
   "outputs": [
    {
     "data": {
      "text/plain": "'Training MSE: '"
     },
     "metadata": {},
     "output_type": "display_data"
    },
    {
     "data": {
      "text/plain": "2757.5878003192215"
     },
     "metadata": {},
     "output_type": "display_data"
    },
    {
     "name": "stdout",
     "output_type": "stream",
     "text": [
      "Training R2:  0.5590632525279866\n"
     ]
    }
   ],
   "source": [
    "lr = TransformedTargetRegressor(regressor=LinearRegression(),\n",
    "                                transformer=StandardScaler()).fit(X_train_scaled, y_train)\n",
    "\n",
    "train_predicted = lr.predict(X_train_scaled)\n",
    "display(\"Training MSE: \", mean_squared_error(y_train, train_predicted))\n",
    "print(\"Training R2: \", lr.score(X_train_scaled, y_train))"
   ],
   "metadata": {
    "collapsed": false,
    "pycharm": {
     "name": "#%%\n"
    }
   }
  },
  {
   "cell_type": "markdown",
   "source": [
    "## Hyperparameter selection: polynomial degree"
   ],
   "metadata": {
    "collapsed": false,
    "pycharm": {
     "name": "#%% md\n"
    }
   }
  },
  {
   "cell_type": "code",
   "execution_count": 13,
   "outputs": [
    {
     "name": "stdout",
     "output_type": "stream",
     "text": [
      "[53.28344317844128, 45.51196726633421, 2.3583227087802455e-12, 6.113190304359754e-13, 2.409016020068406e-12]\n",
      "[52.53345560130045, 60.85442216001462, 640.4407671257561, 151.02088619425726, 265.86951568303493]\n"
     ]
    },
    {
     "data": {
      "text/plain": "[<matplotlib.lines.Line2D at 0x7ff910e8b7c0>]"
     },
     "execution_count": 13,
     "metadata": {},
     "output_type": "execute_result"
    },
    {
     "data": {
      "text/plain": "<Figure size 432x288 with 1 Axes>",
      "image/png": "[encoded data removed]"
     },
     "metadata": {},
     "output_type": "display_data"
    }
   ],
   "source": [
    "X_train2_scaled, X_valid_scaled, y_train2, y_valid = train_test_split(X_train_scaled, y_train)\n",
    "training_errors = []\n",
    "validation_errors = []\n",
    "degrees = [1, 2, 3, 4, 5]\n",
    "for degree in degrees:\n",
    "    features = PolynomialFeatures(degree=degree).fit(X_train2_scaled)\n",
    "    lr = TransformedTargetRegressor(regressor=LinearRegression(),\n",
    "                                    transformer=StandardScaler()).fit(features.transform(X_train2_scaled), y_train2)\n",
    "    training_errors.append(sqrt(mean_squared_error(y_train2, lr.predict(features.transform(X_train2_scaled)))))\n",
    "    validation_errors.append(sqrt(mean_squared_error(y_valid, lr.predict(features.transform(X_valid_scaled)))))\n",
    "print(training_errors)\n",
    "print(validation_errors)\n",
    "plt.plot(degrees, training_errors)\n",
    "plt.plot(degrees, validation_errors)"
   ],
   "metadata": {
    "collapsed": false,
    "pycharm": {
     "name": "#%%\n"
    }
   }
  },
  {
   "cell_type": "markdown",
   "source": [
    "## Conclusion: polynomial features are a bad choice for this data...?\n",
    "\n",
    "## Hyperparameter selection: L1 regularization coefficient"
   ],
   "metadata": {
    "collapsed": false,
    "pycharm": {
     "name": "#%% md\n"
    }
   }
  },
  {
   "cell_type": "code",
   "execution_count": 17,
   "outputs": [
    {
     "name": "stdout",
     "output_type": "stream",
     "text": [
      "[52.16300616546052, 53.17421528143648, 54.00711927038751, 55.367539459950514, 57.20146989168595, 61.200400542026145, 66.03961570143252, 71.78377441726104, 76.86792458122672, 79.91873630641953, 79.91873630641953, 79.91873630641953]\n",
      "[54.93408949398851, 55.759638021997766, 56.050444836798526, 56.88197587848891, 58.21387934856366, 61.30679951582735, 65.43506733559352, 70.63021117379671, 74.94946408288386, 77.36432334600403, 77.36432334600403, 77.36432334600403]\n"
     ]
    },
    {
     "data": {
      "text/plain": "[<matplotlib.lines.Line2D at 0x7ff8f14fcf10>]"
     },
     "execution_count": 17,
     "metadata": {},
     "output_type": "execute_result"
    },
    {
     "data": {
      "text/plain": "<Figure size 432x288 with 1 Axes>",
      "image/png": "[encoded data removed]"
     },
     "metadata": {},
     "output_type": "display_data"
    }
   ],
   "source": [
    "X_train2_scaled, X_valid_scaled, y_train2, y_valid = train_test_split(X_train_scaled, y_train, test_size=0.33)\n",
    "training_errors = []\n",
    "validation_errors = []\n",
    "alphas = [0.0001, 0.05, 0.1, 0.15, 0.2, 0.3, 0.4, 0.5, 0.6, 0.7, 0.8, 0.9]\n",
    "for alpha in alphas:\n",
    "    lr = TransformedTargetRegressor(regressor=Lasso(alpha=alpha),\n",
    "                                    transformer=StandardScaler()).fit(X_train2_scaled, y_train2)\n",
    "    training_errors.append(sqrt(mean_squared_error(y_train2, lr.predict(X_train2_scaled))))\n",
    "    validation_errors.append(sqrt(mean_squared_error(y_valid, lr.predict(X_valid_scaled))))\n",
    "print(training_errors)\n",
    "print(validation_errors)\n",
    "plt.plot(alphas, training_errors)\n",
    "plt.plot(alphas, validation_errors)"
   ],
   "metadata": {
    "collapsed": false,
    "pycharm": {
     "name": "#%%\n"
    }
   }
  }
 ],
 "metadata": {
  "kernelspec": {
   "display_name": "Python 3",
   "language": "python",
   "name": "python3"
  },
  "language_info": {
   "codemirror_mode": {
    "name": "ipython",
    "version": 2
   },
   "file_extension": ".py",
   "mimetype": "text/x-python",
   "name": "python",
   "nbconvert_exporter": "python",
   "pygments_lexer": "ipython2",
   "version": "2.7.6"
  }
 },
 "nbformat": 4,
 "nbformat_minor": 0
}
{
 "cells": [
  {
   "cell_type": "markdown",
   "source": [
    "# CPSC 4970 AI + ML: Module 4 -- K nearest neighbors classifier\n",
    "\n",
    "New stuff:\n",
    "- [LabelEncoder](https://scikit-learn.org/stable/modules/preprocessing_targets.html#preprocessing-targets)\n",
    "- [KNeighborsClassifier](https://scikit-learn.org/stable/modules/neighbors.html#classification)\n",
    "- [ColumnTransformer](https://scikit-learn.org/stable/modules/generated/sklearn.compose.ColumnTransformer.html)"
   ],
   "metadata": {
    "collapsed": false
   }
  },
  {
   "cell_type": "code",
   "execution_count": 28,
   "outputs": [
    {
     "name": "stdout",
     "output_type": "stream",
     "text": [
      "<class 'pandas.core.frame.DataFrame'>\n",
      "RangeIndex: 1000 entries, 0 to 999\n",
      "Data columns (total 21 columns):\n",
      " #   Column                  Non-Null Count  Dtype \n",
      "---  ------                  --------------  ----- \n",
      " 0   checking_status         1000 non-null   object\n",
      " 1   duration                1000 non-null   int64 \n",
      " 2   credit_history          1000 non-null   object\n",
      " 3   purpose                 1000 non-null   object\n",
      " 4   credit_amount           1000 non-null   int64 \n",
      " 5   savings_status          1000 non-null   object\n",
      " 6   employment              1000 non-null   object\n",
      " 7   installment_commitment  1000 non-null   int64 \n",
      " 8   personal_status         1000 non-null   object\n",
      " 9   other_parties           1000 non-null   object\n",
      " 10  residence_since         1000 non-null   int64 \n",
      " 11  property_magnitude      1000 non-null   object\n",
      " 12  age                     1000 non-null   int64 \n",
      " 13  other_payment_plans     1000 non-null   object\n",
      " 14  housing                 1000 non-null   object\n",
      " 15  existing_credits        1000 non-null   int64 \n",
      " 16  job                     1000 non-null   object\n",
      " 17  num_dependents          1000 non-null   int64 \n",
      " 18  own_telephone           1000 non-null   object\n",
      " 19  foreign_worker          1000 non-null   object\n",
      " 20  class                   1000 non-null   object\n",
      "dtypes: int64(7), object(14)\n",
      "memory usage: 164.2+ KB\n"
     ]
    },
    {
     "data": {
      "text/plain": "None"
     },
     "metadata": {},
     "output_type": "display_data"
    },
    {
     "data": {
      "text/plain": "          duration  credit_amount  installment_commitment  residence_since  \\\ncount  1000.000000    1000.000000             1000.000000      1000.000000   \nmean     20.903000    3271.258000                2.973000         2.845000   \nstd      12.058814    2822.736876                1.118715         1.103718   \nmin       4.000000     250.000000                1.000000         1.000000   \n25%      12.000000    1365.500000                2.000000         2.000000   \n50%      18.000000    2319.500000                3.000000         3.000000   \n75%      24.000000    3972.250000                4.000000         4.000000   \nmax      72.000000   18424.000000                4.000000         4.000000   \n\n               age  existing_credits  num_dependents  \ncount  1000.000000       1000.000000     1000.000000  \nmean     35.546000          1.407000        1.155000  \nstd      11.375469          0.577654        0.362086  \nmin      19.000000          1.000000        1.000000  \n25%      27.000000          1.000000        1.000000  \n50%      33.000000          1.000000        1.000000  \n75%      42.000000          2.000000        1.000000  \nmax      75.000000          4.000000        2.000000  ",
      "text/html": "<div>\n<style scoped>\n    .dataframe tbody tr th:only-of-type {\n        vertical-align: middle;\n    }\n\n    .dataframe tbody tr th {\n        vertical-align: top;\n    }\n\n    .dataframe thead th {\n        text-align: right;\n    }\n</style>\n<table border=\"1\" class=\"dataframe\">\n  <thead>\n    <tr style=\"text-align: right;\">\n      <th></th>\n      <th>duration</th>\n      <th>credit_amount</th>\n      <th>installment_commitment</th>\n      <th>residence_since</th>\n      <th>age</th>\n      <th>existing_credits</th>\n      <th>num_dependents</th>\n    </tr>\n  </thead>\n  <tbody>\n    <tr>\n      <th>count</th>\n      <td>1000.000000</td>\n      <td>1000.000000</td>\n      <td>1000.000000</td>\n      <td>1000.000000</td>\n      <td>1000.000000</td>\n      <td>1000.000000</td>\n      <td>1000.000000</td>\n    </tr>\n    <tr>\n      <th>mean</th>\n      <td>20.903000</td>\n      <td>3271.258000</td>\n      <td>2.973000</td>\n      <td>2.845000</td>\n      <td>35.546000</td>\n      <td>1.407000</td>\n      <td>1.155000</td>\n    </tr>\n    <tr>\n      <th>std</th>\n      <td>12.058814</td>\n      <td>2822.736876</td>\n      <td>1.118715</td>\n      <td>1.103718</td>\n      <td>11.375469</td>\n      <td>0.577654</td>\n      <td>0.362086</td>\n    </tr>\n    <tr>\n      <th>min</th>\n      <td>4.000000</td>\n      <td>250.000000</td>\n      <td>1.000000</td>\n      <td>1.000000</td>\n      <td>19.000000</td>\n      <td>1.000000</td>\n      <td>1.000000</td>\n    </tr>\n    <tr>\n      <th>25%</th>\n      <td>12.000000</td>\n      <td>1365.500000</td>\n      <td>2.000000</td>\n      <td>2.000000</td>\n      <td>27.000000</td>\n      <td>1.000000</td>\n      <td>1.000000</td>\n    </tr>\n    <tr>\n      <th>50%</th>\n      <td>18.000000</td>\n      <td>2319.500000</td>\n      <td>3.000000</td>\n      <td>3.000000</td>\n      <td>33.000000</td>\n      <td>1.000000</td>\n      <td>1.000000</td>\n    </tr>\n    <tr>\n      <th>75%</th>\n      <td>24.000000</td>\n      <td>3972.250000</td>\n      <td>4.000000</td>\n      <td>4.000000</td>\n      <td>42.000000</td>\n      <td>2.000000</td>\n      <td>1.000000</td>\n    </tr>\n    <tr>\n      <th>max</th>\n      <td>72.000000</td>\n      <td>18424.000000</td>\n      <td>4.000000</td>\n      <td>4.000000</td>\n      <td>75.000000</td>\n      <td>4.000000</td>\n      <td>2.000000</td>\n    </tr>\n  </tbody>\n</table>\n</div>"
     },
     "metadata": {},
     "output_type": "display_data"
    },
    {
     "data": {
      "text/plain": "    checking_status  duration                    credit_history  \\\n0              '<0'         6  'critical/other existing credit'   \n1        '0<=X<200'        48                   'existing paid'   \n2     'no checking'        12  'critical/other existing credit'   \n3              '<0'        42                   'existing paid'   \n4              '<0'        24              'delayed previously'   \n..              ...       ...                               ...   \n995   'no checking'        12                   'existing paid'   \n996            '<0'        30                   'existing paid'   \n997   'no checking'        12                   'existing paid'   \n998            '<0'        45                   'existing paid'   \n999      '0<=X<200'        45  'critical/other existing credit'   \n\n                 purpose  credit_amount      savings_status  employment  \\\n0               radio/tv           1169  'no known savings'       '>=7'   \n1               radio/tv           5951              '<100'    '1<=X<4'   \n2              education           2096              '<100'    '4<=X<7'   \n3    furniture/equipment           7882              '<100'    '4<=X<7'   \n4              'new car'           4870              '<100'    '1<=X<4'   \n..                   ...            ...                 ...         ...   \n995  furniture/equipment           1736              '<100'    '4<=X<7'   \n996           'used car'           3857              '<100'    '1<=X<4'   \n997             radio/tv            804              '<100'       '>=7'   \n998             radio/tv           1845              '<100'    '1<=X<4'   \n999           'used car'           4576        '100<=X<500'  unemployed   \n\n     installment_commitment       personal_status other_parties  ...  \\\n0                         4         'male single'          none  ...   \n1                         2  'female div/dep/mar'          none  ...   \n2                         2         'male single'          none  ...   \n3                         2         'male single'     guarantor  ...   \n4                         3         'male single'          none  ...   \n..                      ...                   ...           ...  ...   \n995                       3  'female div/dep/mar'          none  ...   \n996                       4        'male div/sep'          none  ...   \n997                       4         'male single'          none  ...   \n998                       4         'male single'          none  ...   \n999                       3         'male single'          none  ...   \n\n      property_magnitude age  other_payment_plans     housing  \\\n0          'real estate'  67                 none         own   \n1          'real estate'  22                 none         own   \n2          'real estate'  49                 none         own   \n3       'life insurance'  45                 none  'for free'   \n4    'no known property'  53                 none  'for free'   \n..                   ...  ..                  ...         ...   \n995        'real estate'  31                 none         own   \n996     'life insurance'  40                 none         own   \n997                  car  38                 none         own   \n998  'no known property'  23                 none  'for free'   \n999                  car  27                 none         own   \n\n    existing_credits                          job num_dependents  \\\n0                  2                      skilled              1   \n1                  1                      skilled              1   \n2                  1         'unskilled resident'              2   \n3                  1                      skilled              2   \n4                  2                      skilled              2   \n..               ...                          ...            ...   \n995                1         'unskilled resident'              1   \n996                1  'high qualif/self emp/mgmt'              1   \n997                1                      skilled              1   \n998                1                      skilled              1   \n999                1                      skilled              1   \n\n     own_telephone foreign_worker class  \n0              yes            yes  good  \n1             none            yes   bad  \n2             none            yes  good  \n3             none            yes  good  \n4             none            yes   bad  \n..             ...            ...   ...  \n995           none            yes  good  \n996            yes            yes  good  \n997           none            yes  good  \n998            yes            yes   bad  \n999           none            yes  good  \n\n[1000 rows x 21 columns]",
      "text/html": "<div>\n<style scoped>\n    .dataframe tbody tr th:only-of-type {\n        vertical-align: middle;\n    }\n\n    .dataframe tbody tr th {\n        vertical-align: top;\n    }\n\n    .dataframe thead th {\n        text-align: right;\n    }\n</style>\n<table border=\"1\" class=\"dataframe\">\n  <thead>\n    <tr style=\"text-align: right;\">\n      <th></th>\n      <th>checking_status</th>\n      <th>duration</th>\n      <th>credit_history</th>\n      <th>purpose</th>\n      <th>credit_amount</th>\n      <th>savings_status</th>\n      <th>employment</th>\n      <th>installment_commitment</th>\n      <th>personal_status</th>\n      <th>other_parties</th>\n      <th>...</th>\n      <th>property_magnitude</th>\n      <th>age</th>\n      <th>other_payment_plans</th>\n      <th>housing</th>\n      <th>existing_credits</th>\n      <th>job</th>\n      <th>num_dependents</th>\n      <th>own_telephone</th>\n      <th>foreign_worker</th>\n      <th>class</th>\n    </tr>\n  </thead>\n  <tbody>\n    <tr>\n      <th>0</th>\n      <td>'&lt;0'</td>\n      <td>6</td>\n      <td>'critical/other existing credit'</td>\n      <td>radio/tv</td>\n      <td>1169</td>\n      <td>'no known savings'</td>\n      <td>'&gt;=7'</td>\n      <td>4</td>\n      <td>'male single'</td>\n      <td>none</td>\n      <td>...</td>\n      <td>'real estate'</td>\n      <td>67</td>\n      <td>none</td>\n      <td>own</td>\n      <td>2</td>\n      <td>skilled</td>\n      <td>1</td>\n      <td>yes</td>\n      <td>yes</td>\n      <td>good</td>\n    </tr>\n    <tr>\n      <th>1</th>\n      <td>'0&lt;=X&lt;200'</td>\n      <td>48</td>\n      <td>'existing paid'</td>\n      <td>radio/tv</td>\n      <td>5951</td>\n      <td>'&lt;100'</td>\n      <td>'1&lt;=X&lt;4'</td>\n      <td>2</td>\n      <td>'female div/dep/mar'</td>\n      <td>none</td>\n      <td>...</td>\n      <td>'real estate'</td>\n      <td>22</td>\n      <td>none</td>\n      <td>own</td>\n      <td>1</td>\n      <td>skilled</td>\n      <td>1</td>\n      <td>none</td>\n      <td>yes</td>\n      <td>bad</td>\n    </tr>\n    <tr>\n      <th>2</th>\n      <td>'no checking'</td>\n      <td>12</td>\n      <td>'critical/other existing credit'</td>\n      <td>education</td>\n      <td>2096</td>\n      <td>'&lt;100'</td>\n      <td>'4&lt;=X&lt;7'</td>\n      <td>2</td>\n      <td>'male single'</td>\n      <td>none</td>\n      <td>...</td>\n      <td>'real estate'</td>\n      <td>49</td>\n      <td>none</td>\n      <td>own</td>\n      <td>1</td>\n      <td>'unskilled resident'</td>\n      <td>2</td>\n      <td>none</td>\n      <td>yes</td>\n      <td>good</td>\n    </tr>\n    <tr>\n      <th>3</th>\n      <td>'&lt;0'</td>\n      <td>42</td>\n      <td>'existing paid'</td>\n      <td>furniture/equipment</td>\n      <td>7882</td>\n      <td>'&lt;100'</td>\n      <td>'4&lt;=X&lt;7'</td>\n      <td>2</td>\n      <td>'male single'</td>\n      <td>guarantor</td>\n      <td>...</td>\n      <td>'life insurance'</td>\n      <td>45</td>\n      <td>none</td>\n      <td>'for free'</td>\n      <td>1</td>\n      <td>skilled</td>\n      <td>2</td>\n      <td>none</td>\n      <td>yes</td>\n      <td>good</td>\n    </tr>\n    <tr>\n      <th>4</th>\n      <td>'&lt;0'</td>\n      <td>24</td>\n      <td>'delayed previously'</td>\n      <td>'new car'</td>\n      <td>4870</td>\n      <td>'&lt;100'</td>\n      <td>'1&lt;=X&lt;4'</td>\n      <td>3</td>\n      <td>'male single'</td>\n      <td>none</td>\n      <td>...</td>\n      <td>'no known property'</td>\n      <td>53</td>\n      <td>none</td>\n      <td>'for free'</td>\n      <td>2</td>\n      <td>skilled</td>\n      <td>2</td>\n      <td>none</td>\n      <td>yes</td>\n      <td>bad</td>\n    </tr>\n    <tr>\n      <th>...</th>\n      <td>...</td>\n      <td>...</td>\n      <td>...</td>\n      <td>...</td>\n      <td>...</td>\n      <td>...</td>\n      <td>...</td>\n      <td>...</td>\n      <td>...</td>\n      <td>...</td>\n      <td>...</td>\n      <td>...</td>\n      <td>...</td>\n      <td>...</td>\n      <td>...</td>\n      <td>...</td>\n      <td>...</td>\n      <td>...</td>\n      <td>...</td>\n      <td>...</td>\n      <td>...</td>\n    </tr>\n    <tr>\n      <th>995</th>\n      <td>'no checking'</td>\n      <td>12</td>\n      <td>'existing paid'</td>\n      <td>furniture/equipment</td>\n      <td>1736</td>\n      <td>'&lt;100'</td>\n      <td>'4&lt;=X&lt;7'</td>\n      <td>3</td>\n      <td>'female div/dep/mar'</td>\n      <td>none</td>\n      <td>...</td>\n      <td>'real estate'</td>\n      <td>31</td>\n      <td>none</td>\n      <td>own</td>\n      <td>1</td>\n      <td>'unskilled resident'</td>\n      <td>1</td>\n      <td>none</td>\n      <td>yes</td>\n      <td>good</td>\n    </tr>\n    <tr>\n      <th>996</th>\n      <td>'&lt;0'</td>\n      <td>30</td>\n      <td>'existing paid'</td>\n      <td>'used car'</td>\n      <td>3857</td>\n      <td>'&lt;100'</td>\n      <td>'1&lt;=X&lt;4'</td>\n      <td>4</td>\n      <td>'male div/sep'</td>\n      <td>none</td>\n      <td>...</td>\n      <td>'life insurance'</td>\n      <td>40</td>\n      <td>none</td>\n      <td>own</td>\n      <td>1</td>\n      <td>'high qualif/self emp/mgmt'</td>\n      <td>1</td>\n      <td>yes</td>\n      <td>yes</td>\n      <td>good</td>\n    </tr>\n    <tr>\n      <th>997</th>\n      <td>'no checking'</td>\n      <td>12</td>\n      <td>'existing paid'</td>\n      <td>radio/tv</td>\n      <td>804</td>\n      <td>'&lt;100'</td>\n      <td>'&gt;=7'</td>\n      <td>4</td>\n      <td>'male single'</td>\n      <td>none</td>\n      <td>...</td>\n      <td>car</td>\n      <td>38</td>\n      <td>none</td>\n      <td>own</td>\n      <td>1</td>\n      <td>skilled</td>\n      <td>1</td>\n      <td>none</td>\n      <td>yes</td>\n      <td>good</td>\n    </tr>\n    <tr>\n      <th>998</th>\n      <td>'&lt;0'</td>\n      <td>45</td>\n      <td>'existing paid'</td>\n      <td>radio/tv</td>\n      <td>1845</td>\n      <td>'&lt;100'</td>\n      <td>'1&lt;=X&lt;4'</td>\n      <td>4</td>\n      <td>'male single'</td>\n      <td>none</td>\n      <td>...</td>\n      <td>'no known property'</td>\n      <td>23</td>\n      <td>none</td>\n      <td>'for free'</td>\n      <td>1</td>\n      <td>skilled</td>\n      <td>1</td>\n      <td>yes</td>\n      <td>yes</td>\n      <td>bad</td>\n    </tr>\n    <tr>\n      <th>999</th>\n      <td>'0&lt;=X&lt;200'</td>\n      <td>45</td>\n      <td>'critical/other existing credit'</td>\n      <td>'used car'</td>\n      <td>4576</td>\n      <td>'100&lt;=X&lt;500'</td>\n      <td>unemployed</td>\n      <td>3</td>\n      <td>'male single'</td>\n      <td>none</td>\n      <td>...</td>\n      <td>car</td>\n      <td>27</td>\n      <td>none</td>\n      <td>own</td>\n      <td>1</td>\n      <td>skilled</td>\n      <td>1</td>\n      <td>none</td>\n      <td>yes</td>\n      <td>good</td>\n    </tr>\n  </tbody>\n</table>\n<p>1000 rows × 21 columns</p>\n</div>"
     },
     "metadata": {},
     "output_type": "display_data"
    }
   ],
   "source": [
    "from sklearn.model_selection import train_test_split\n",
    "from sklearn.preprocessing import OneHotEncoder, LabelEncoder\n",
    "from sklearn.compose import ColumnTransformer\n",
    "from IPython.display import display\n",
    "import pandas as pd\n",
    "\n",
    "# Data from https://www.openml.org/d/31\n",
    "# Data originally from https://archive.ics.uci.edu/ml/datasets/statlog+(german+credit+data)\n",
    "# but the openml version is cleaned up a bit.\n",
    "df = pd.read_csv('data/dataset_31_credit-g.csv')\n",
    "display(df.info())\n",
    "display(df.describe())\n",
    "display(df)"
   ],
   "metadata": {
    "collapsed": false,
    "pycharm": {
     "name": "#%%\n"
    }
   }
  },
  {
   "cell_type": "code",
   "execution_count": 29,
   "outputs": [
    {
     "data": {
      "text/plain": "array(['bad', 'good'], dtype=object)"
     },
     "metadata": {},
     "output_type": "display_data"
    }
   ],
   "source": [
    "ct = ColumnTransformer(\n",
    "    [('one-hot', OneHotEncoder(), ['checking_status', 'credit_history', 'purpose',\n",
    "                                  'savings_status', 'employment', 'personal_status',\n",
    "                                  'other_parties', 'property_magnitude', 'other_payment_plans',\n",
    "                                  'housing', 'job', 'own_telephone', 'foreign_worker'])],\n",
    "    remainder='passthrough'\n",
    ")\n",
    "\n",
    "X = df.iloc[:, :-1]\n",
    "y = df['class']\n",
    "\n",
    "X_train, X_test, y_train, y_test = train_test_split(X, y)\n",
    "\n",
    "X_train_transformed = ct.fit_transform(X_train)\n",
    "X_test_transformed = ct.transform(X_test)\n",
    "\n",
    "label_encoder = LabelEncoder()\n",
    "y_train_transformed = label_encoder.fit_transform(y_train)\n",
    "display(label_encoder.classes_)\n",
    "y_test_transformed = label_encoder.transform(y_test)"
   ],
   "metadata": {
    "collapsed": false,
    "pycharm": {
     "name": "#%%\n"
    }
   }
  },
  {
   "cell_type": "markdown",
   "source": [
    "# KNN without resampling"
   ],
   "metadata": {
    "collapsed": false,
    "pycharm": {
     "name": "#%% md\n"
    }
   }
  },
  {
   "cell_type": "code",
   "execution_count": 30,
   "outputs": [
    {
     "name": "stdout",
     "output_type": "stream",
     "text": [
      "Percentage in positive class:  0.696\n",
      "Training accuracy:  0.7306666666666667\n",
      "Testing accuracy:  0.692\n"
     ]
    }
   ],
   "source": [
    "from sklearn.neighbors import KNeighborsClassifier\n",
    "\n",
    "knn = KNeighborsClassifier(n_neighbors=7)\n",
    "knn.fit(X_train_transformed, y_train_transformed)\n",
    "\n",
    "print(\"Percentage in positive class: \", sum(y_train_transformed)/len(y_train_transformed))\n",
    "print(\"Training accuracy: \", knn.score(X_train_transformed, y_train_transformed))\n",
    "print(\"Testing accuracy: \", knn.score(X_test_transformed, y_test_transformed))"
   ],
   "metadata": {
    "collapsed": false,
    "pycharm": {
     "name": "#%%\n"
    }
   }
  },
  {
   "cell_type": "markdown",
   "source": [
    "# KNN with SMOTE"
   ],
   "metadata": {
    "collapsed": false,
    "pycharm": {
     "name": "#%% md\n"
    }
   }
  },
  {
   "cell_type": "code",
   "execution_count": 31,
   "outputs": [
    {
     "name": "stdout",
     "output_type": "stream",
     "text": [
      "Percentage in positive class:  0.5\n",
      "Training accuracy:  0.7452107279693486\n",
      "Testing accuracy:  0.564\n"
     ]
    }
   ],
   "source": [
    "from imblearn.over_sampling import SMOTE\n",
    "\n",
    "oversampler = SMOTE()\n",
    "X_train_transformed, y_train_transformed = oversampler.fit_resample(X_train_transformed, y_train_transformed)\n",
    "\n",
    "knn = KNeighborsClassifier(n_neighbors=7)\n",
    "knn.fit(X_train_transformed, y_train_transformed)\n",
    "\n",
    "print(\"Percentage in positive class: \", sum(y_train_transformed)/len(y_train_transformed))\n",
    "print(\"Training accuracy: \", knn.score(X_train_transformed, y_train_transformed))\n",
    "print(\"Testing accuracy: \", knn.score(X_test_transformed, y_test_transformed))"
   ],
   "metadata": {
    "collapsed": false,
    "pycharm": {
     "name": "#%%\n"
    }
   }
  }
 ],
 "metadata": {
  "kernelspec": {
   "display_name": "Python 3",
   "language": "python",
   "name": "python3"
  },
  "language_info": {
   "codemirror_mode": {
    "name": "ipython",
    "version": 2
   },
   "file_extension": ".py",
   "mimetype": "text/x-python",
   "name": "python",
   "nbconvert_exporter": "python",
   "pygments_lexer": "ipython2",
   "version": "2.7.6"
  }
 },
 "nbformat": 4,
 "nbformat_minor": 0
}
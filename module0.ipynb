{
 "cells": [
  {
   "cell_type": "markdown",
   "source": [
    "# CPSC 4970 AI + ML: Module 0\n",
    "\n",
    "Packages that we will use"
   ],
   "metadata": {
    "collapsed": false
   }
  },
  {
   "cell_type": "code",
   "execution_count": 1,
   "outputs": [
    {
     "name": "stdout",
     "output_type": "stream",
     "text": [
      "Python version: 3.9.5 (v3.9.5:0a7dcbdb13, May  3 2021, 13:17:02) \n",
      "[Clang 6.0 (clang-600.0.57)]\n",
      "pandas version: 1.3.0\n",
      "matplotlib version: 3.4.2\n",
      "NumPy version: 1.21.0\n",
      "SciPy version: 1.7.0\n",
      "IPython version: 7.25.0\n",
      "scikit-learn version: 0.24.2\n",
      "mglearn version: 0.1.9\n",
      "seaborn version: 0.11.1\n"
     ]
    }
   ],
   "source": [
    "import sys\n",
    "import pandas as pd\n",
    "import matplotlib\n",
    "import seaborn as sns\n",
    "import numpy as np\n",
    "import scipy as sp\n",
    "import IPython\n",
    "import sklearn\n",
    "import mglearn\n",
    "\n",
    "print(\"Python version:\", sys.version)\n",
    "print(\"pandas version:\", pd.__version__)\n",
    "print(\"matplotlib version:\", matplotlib.__version__)\n",
    "print(\"NumPy version:\", np.__version__)\n",
    "print(\"SciPy version:\", sp.__version__)\n",
    "print(\"IPython version:\", IPython.__version__)\n",
    "print(\"scikit-learn version:\", sklearn.__version__)\n",
    "print(\"mglearn version:\", mglearn.__version__)\n",
    "print(\"seaborn version:\", sns.__version__)"
   ],
   "metadata": {
    "collapsed": false,
    "pycharm": {
     "name": "#%%\n"
    }
   }
  },
  {
   "cell_type": "markdown",
   "source": [
    "# Creating a vector/matrix in numpy"
   ],
   "metadata": {
    "collapsed": false,
    "pycharm": {
     "name": "#%% md\n"
    }
   }
  },
  {
   "cell_type": "code",
   "execution_count": 2,
   "outputs": [
    {
     "name": "stdout",
     "output_type": "stream",
     "text": [
      "[[1 2 3]]\n",
      "[[4]\n",
      " [9]\n",
      " [3]\n",
      " [2]]\n",
      "[[ 3  2]\n",
      " [ 9 -1]\n",
      " [12  5]]\n",
      "1\n",
      "9\n",
      "12\n"
     ]
    }
   ],
   "source": [
    "v = np.array([[1, 2, 3]])\n",
    "print(v)\n",
    "\n",
    "w = np.array([[4], [9], [3], [2]])\n",
    "print(w)\n",
    "\n",
    "A = np.array([[3, 2], [9, -1], [12, 5]])\n",
    "print(A)\n",
    "\n",
    "print(v[0][0])\n",
    "print(w[1][0])\n",
    "print(A[2][0])"
   ],
   "metadata": {
    "collapsed": false,
    "pycharm": {
     "name": "#%%\n"
    }
   }
  },
  {
   "cell_type": "markdown",
   "source": [
    "# Matrix sums, differences, hadamard product and vector norm"
   ],
   "metadata": {
    "collapsed": false,
    "pycharm": {
     "name": "#%% md\n"
    }
   }
  },
  {
   "cell_type": "code",
   "execution_count": 3,
   "outputs": [
    {
     "name": "stdout",
     "output_type": "stream",
     "text": [
      "A= [[ 3  2]\n",
      " [ 9 -1]\n",
      " [12  5]]\n",
      "B= [[-1 -1]\n",
      " [-2 -2]\n",
      " [-3 -3]]\n",
      "A+B= [[ 2  1]\n",
      " [ 7 -3]\n",
      " [ 9  2]]\n",
      "A-B= [[ 4  3]\n",
      " [11  1]\n",
      " [15  8]]\n",
      "A*B [[ -3  -2]\n",
      " [-18   2]\n",
      " [-36 -15]]\n",
      "norm(v)= 3.7416573867739413\n",
      "norm(A)= 16.24807680927192\n"
     ]
    }
   ],
   "source": [
    "print(\"A=\", A)\n",
    "B = np.array([[-1, -1], [-2, -2], [-3, - 3]])\n",
    "print(\"B=\", B)\n",
    "print(\"A+B=\", A+B)\n",
    "print(\"A-B=\", A-B)\n",
    "print(\"A*B\", A*B)\n",
    "print(\"norm(v)=\", np.linalg.norm(v))\n",
    "print(\"norm(A)=\", np.linalg.norm(A))"
   ],
   "metadata": {
    "collapsed": false,
    "pycharm": {
     "name": "#%%\n"
    }
   }
  },
  {
   "cell_type": "markdown",
   "source": [
    "# Matrix product"
   ],
   "metadata": {
    "collapsed": false,
    "pycharm": {
     "name": "#%% md\n"
    }
   }
  },
  {
   "cell_type": "code",
   "execution_count": 4,
   "outputs": [
    {
     "name": "stdout",
     "output_type": "stream",
     "text": [
      "A=array([[ 3,  2],\n",
      "       [ 9, -1],\n",
      "       [12,  5]])\n",
      "C=array([[ 1,  0, -1,  3],\n",
      "       [ 0,  3,  3,  1]])\n",
      "A@C=array([[  3,   6,   3,  11],\n",
      "       [  9,  -3, -12,  26],\n",
      "       [ 12,  15,   3,  41]])\n",
      "B.T=array([[-1, -2, -3],\n",
      "       [-1, -2, -3]])\n",
      "A @ B.T=array([[ -5, -10, -15],\n",
      "       [ -8, -16, -24],\n",
      "       [-17, -34, -51]])\n",
      "B.T @ A=array([[-57, -15],\n",
      "       [-57, -15]])\n"
     ]
    }
   ],
   "source": [
    "A = np.array([[3, 2], [9, -1], [12, 5]])\n",
    "C = np.array([[1, 0, -1, 3], [0, 3, 3, 1]])\n",
    "print(f\"{A=}\")\n",
    "print(f\"{C=}\")\n",
    "print(f\"{A@C=}\")\n",
    "print(f\"{B.T=}\")\n",
    "print(f\"{A @ B.T=}\")\n",
    "print(f\"{B.T @ A=}\")"
   ],
   "metadata": {
    "collapsed": false,
    "pycharm": {
     "name": "#%%\n"
    }
   }
  },
  {
   "cell_type": "markdown",
   "source": [
    "# Identity matrix, inverse of a matrix"
   ],
   "metadata": {
    "collapsed": false,
    "pycharm": {
     "name": "#%% md\n"
    }
   }
  },
  {
   "cell_type": "code",
   "execution_count": 5,
   "outputs": [
    {
     "name": "stdout",
     "output_type": "stream",
     "text": [
      "A @ np.eye(3)=array([[ 3.,  2.,  6.],\n",
      "       [ 9., -1.,  4.],\n",
      "       [12.,  5., -1.]])\n",
      "np.eye(3) @ A=array([[ 3.,  2.,  6.],\n",
      "       [ 9., -1.,  4.],\n",
      "       [12.,  5., -1.]])\n",
      "Binv=array([[ 0. ,  0.5,  0.5],\n",
      "       [ 1. ,  0. , -1. ],\n",
      "       [ 1. , -0.5, -0.5]])\n",
      "B @ Binv=array([[1., 0., 0.],\n",
      "       [0., 1., 0.],\n",
      "       [0., 0., 1.]])\n"
     ]
    }
   ],
   "source": [
    "A = np.array([[3, 2, 6], [9, -1, 4], [12, 5, -1]])\n",
    "print(f\"{A @ np.eye(3)=}\")\n",
    "print(f\"{np.eye(3) @ A=}\")\n",
    "B = np.array([[1, 0, 1], [1, 1, -1], [1, -1, 1]])\n",
    "Binv = np.linalg.inv(B)\n",
    "print(f\"{Binv=}\")\n",
    "print(f\"{B @ Binv=}\")"
   ],
   "metadata": {
    "collapsed": false,
    "pycharm": {
     "name": "#%%\n"
    }
   }
  }
 ],
 "metadata": {
  "kernelspec": {
   "display_name": "Python 3",
   "language": "python",
   "name": "python3"
  },
  "language_info": {
   "codemirror_mode": {
    "name": "ipython",
    "version": 2
   },
   "file_extension": ".py",
   "mimetype": "text/x-python",
   "name": "python",
   "nbconvert_exporter": "python",
   "pygments_lexer": "ipython2",
   "version": "2.7.6"
  }
 },
 "nbformat": 4,
 "nbformat_minor": 0
}
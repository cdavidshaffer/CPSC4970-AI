{
 "cells": [
  {
   "cell_type": "markdown",
   "source": [
    "# CPSC 4970 AI + ML: Module 2"
   ],
   "metadata": {
    "collapsed": false,
    "pycharm": {
     "name": "#%% md\n"
    }
   }
  },
  {
   "cell_type": "code",
   "execution_count": 128,
   "metadata": {
    "collapsed": true
   },
   "outputs": [],
   "source": [
    "import sklearn.datasets\n",
    "from IPython.core.display import display\n",
    "from sklearn.linear_model import LinearRegression\n",
    "from sklearn.metrics import mean_squared_error\n",
    "from sklearn.model_selection import train_test_split\n",
    "import matplotlib.pyplot as plt\n",
    "from sklearn.preprocessing import PolynomialFeatures\n",
    "\n",
    "plt.style.use('dark_background')"
   ]
  },
  {
   "cell_type": "markdown",
   "source": [
    "## Exploratory Data Analysis -- skipping some steps"
   ],
   "metadata": {
    "collapsed": false,
    "pycharm": {
     "name": "#%% md\n"
    }
   }
  },
  {
   "cell_type": "code",
   "execution_count": 129,
   "outputs": [
    {
     "name": "stdout",
     "output_type": "stream",
     "text": [
      "<class 'pandas.core.frame.DataFrame'>\n",
      "RangeIndex: 442 entries, 0 to 441\n",
      "Data columns (total 11 columns):\n",
      " #   Column  Non-Null Count  Dtype  \n",
      "---  ------  --------------  -----  \n",
      " 0   age     442 non-null    float64\n",
      " 1   sex     442 non-null    float64\n",
      " 2   bmi     442 non-null    float64\n",
      " 3   bp      442 non-null    float64\n",
      " 4   s1      442 non-null    float64\n",
      " 5   s2      442 non-null    float64\n",
      " 6   s3      442 non-null    float64\n",
      " 7   s4      442 non-null    float64\n",
      " 8   s5      442 non-null    float64\n",
      " 9   s6      442 non-null    float64\n",
      " 10  target  442 non-null    float64\n",
      "dtypes: float64(11)\n",
      "memory usage: 38.1 KB\n",
      "None\n"
     ]
    },
    {
     "data": {
      "text/plain": "          age       sex       bmi        bp        s1        s2        s3  \\\n331  0.081666  0.050680 -0.025607 -0.036656 -0.070367 -0.046407 -0.039719   \n416 -0.027310 -0.044642  0.080019  0.098763 -0.002945  0.018101 -0.017629   \n208  0.030811 -0.044642  0.040140  0.076958  0.017694  0.037830 -0.028674   \n214  0.030811 -0.044642 -0.033151 -0.022885 -0.046975 -0.081167  0.103865   \n60  -0.070900 -0.044642 -0.004050 -0.040099 -0.066239 -0.078662  0.052322   \n\n           s4        s5        s6  \n331 -0.002592 -0.041180 -0.005220  \n416  0.003312 -0.029528  0.036201  \n208  0.034309 -0.001499  0.119043  \n214 -0.076395 -0.039810 -0.054925  \n60  -0.076395 -0.051401 -0.034215  ",
      "text/html": "<div>\n<style scoped>\n    .dataframe tbody tr th:only-of-type {\n        vertical-align: middle;\n    }\n\n    .dataframe tbody tr th {\n        vertical-align: top;\n    }\n\n    .dataframe thead th {\n        text-align: right;\n    }\n</style>\n<table border=\"1\" class=\"dataframe\">\n  <thead>\n    <tr style=\"text-align: right;\">\n      <th></th>\n      <th>age</th>\n      <th>sex</th>\n      <th>bmi</th>\n      <th>bp</th>\n      <th>s1</th>\n      <th>s2</th>\n      <th>s3</th>\n      <th>s4</th>\n      <th>s5</th>\n      <th>s6</th>\n    </tr>\n  </thead>\n  <tbody>\n    <tr>\n      <th>331</th>\n      <td>0.081666</td>\n      <td>0.050680</td>\n      <td>-0.025607</td>\n      <td>-0.036656</td>\n      <td>-0.070367</td>\n      <td>-0.046407</td>\n      <td>-0.039719</td>\n      <td>-0.002592</td>\n      <td>-0.041180</td>\n      <td>-0.005220</td>\n    </tr>\n    <tr>\n      <th>416</th>\n      <td>-0.027310</td>\n      <td>-0.044642</td>\n      <td>0.080019</td>\n      <td>0.098763</td>\n      <td>-0.002945</td>\n      <td>0.018101</td>\n      <td>-0.017629</td>\n      <td>0.003312</td>\n      <td>-0.029528</td>\n      <td>0.036201</td>\n    </tr>\n    <tr>\n      <th>208</th>\n      <td>0.030811</td>\n      <td>-0.044642</td>\n      <td>0.040140</td>\n      <td>0.076958</td>\n      <td>0.017694</td>\n      <td>0.037830</td>\n      <td>-0.028674</td>\n      <td>0.034309</td>\n      <td>-0.001499</td>\n      <td>0.119043</td>\n    </tr>\n    <tr>\n      <th>214</th>\n      <td>0.030811</td>\n      <td>-0.044642</td>\n      <td>-0.033151</td>\n      <td>-0.022885</td>\n      <td>-0.046975</td>\n      <td>-0.081167</td>\n      <td>0.103865</td>\n      <td>-0.076395</td>\n      <td>-0.039810</td>\n      <td>-0.054925</td>\n    </tr>\n    <tr>\n      <th>60</th>\n      <td>-0.070900</td>\n      <td>-0.044642</td>\n      <td>-0.004050</td>\n      <td>-0.040099</td>\n      <td>-0.066239</td>\n      <td>-0.078662</td>\n      <td>0.052322</td>\n      <td>-0.076395</td>\n      <td>-0.051401</td>\n      <td>-0.034215</td>\n    </tr>\n  </tbody>\n</table>\n</div>"
     },
     "metadata": {},
     "output_type": "display_data"
    },
    {
     "data": {
      "text/plain": "331    199.0\n416    257.0\n208    155.0\n214     65.0\n60      61.0\nName: target, dtype: float64"
     },
     "metadata": {},
     "output_type": "display_data"
    }
   ],
   "source": [
    "db = sklearn.datasets.load_diabetes(as_frame=True)['frame']\n",
    "print(db.info())\n",
    "train, test = train_test_split(db, test_size=0.33)\n",
    "# X = everything but least column\n",
    "X_train = train.iloc[:, :-1]\n",
    "X_test = test.iloc[:, :-1]\n",
    "# y = target column\n",
    "y_train = train['target']\n",
    "y_test = test['target']\n",
    "\n",
    "display(X_train.head())\n",
    "display(y_train.head())"
   ],
   "metadata": {
    "collapsed": false,
    "pycharm": {
     "name": "#%%\n"
    }
   }
  },
  {
   "cell_type": "markdown",
   "source": [
    "## Create linear regression model"
   ],
   "metadata": {
    "collapsed": false,
    "pycharm": {
     "name": "#%% md\n"
    }
   }
  },
  {
   "cell_type": "code",
   "execution_count": 130,
   "outputs": [
    {
     "name": "stdout",
     "output_type": "stream",
     "text": [
      "Training MSE:  2775.242014649815\n",
      "Training R2:  0.5163570908121631\n",
      "[  26.34058493 -256.14864831  426.68510628  328.07362145 -641.74149826\n",
      "  343.14649011   43.59986076  226.30826786  641.47266307  135.0913356 ]\n"
     ]
    },
    {
     "data": {
      "text/plain": "<matplotlib.collections.PathCollection at 0x7fb26927db50>"
     },
     "execution_count": 130,
     "metadata": {},
     "output_type": "execute_result"
    },
    {
     "data": {
      "text/plain": "<Figure size 432x288 with 1 Axes>",
      "image/png": "[encoded data removed]"
     },
     "metadata": {},
     "output_type": "display_data"
    }
   ],
   "source": [
    "lr = LinearRegression().fit(X_train, y_train)\n",
    "train_predicted = lr.predict(X_train)\n",
    "print(\"Training MSE: \", mean_squared_error(y_train, train_predicted))\n",
    "print(\"Training R2: \", lr.score(X_train, y_train))\n",
    "print(lr.coef_)\n",
    "plt.scatter(range(len(lr.coef_)), lr.coef_)"
   ],
   "metadata": {
    "collapsed": false,
    "pycharm": {
     "name": "#%%\n"
    }
   }
  },
  {
   "cell_type": "markdown",
   "source": [
    "## Create quadratic model"
   ],
   "metadata": {
    "collapsed": false,
    "pycharm": {
     "name": "#%% md\n"
    }
   }
  },
  {
   "cell_type": "code",
   "execution_count": 131,
   "outputs": [
    {
     "name": "stdout",
     "output_type": "stream",
     "text": [
      "(65,)\n",
      "Training MSE:  2135.5416025441386\n",
      "Training R2:  0.6278380235330834\n"
     ]
    },
    {
     "data": {
      "text/plain": "<Figure size 432x288 with 1 Axes>",
      "image/png": "[encoded data removed]"
     },
     "metadata": {},
     "output_type": "display_data"
    }
   ],
   "source": [
    "polynomial = PolynomialFeatures(degree=2, include_bias=False)\n",
    "polynomial.fit(X_train)\n",
    "X_train_poly = polynomial.transform(X_train)\n",
    "lr = LinearRegression().fit(X_train_poly, y_train)\n",
    "train_predicted = lr.predict(X_train_poly)\n",
    "print(lr.coef_.shape)\n",
    "plt.scatter(range(len(lr.coef_)), lr.coef_)\n",
    "print(\"Training MSE: \", mean_squared_error(y_train, train_predicted))\n",
    "print(\"Training R2: \", lr.score(X_train_poly, y_train))"
   ],
   "metadata": {
    "collapsed": false,
    "pycharm": {
     "name": "#%%\n"
    }
   }
  }
 ],
 "metadata": {
  "kernelspec": {
   "display_name": "Python 3",
   "language": "python",
   "name": "python3"
  },
  "language_info": {
   "codemirror_mode": {
    "name": "ipython",
    "version": 2
   },
   "file_extension": ".py",
   "mimetype": "text/x-python",
   "name": "python",
   "nbconvert_exporter": "python",
   "pygments_lexer": "ipython2",
   "version": "2.7.6"
  }
 },
 "nbformat": 4,
 "nbformat_minor": 0
}
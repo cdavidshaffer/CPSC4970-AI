{
 "cells": [
  {
   "cell_type": "markdown",
   "metadata": {
    "collapsed": true,
    "pycharm": {
     "name": "#%% md\n"
    }
   },
   "source": [
    "# CPSC 4970 AI + ML: Module 3 Cross validation demos\n",
    "\n",
    "The module3 notebook got too messy due to the incremental development of the\n",
    "hyperparameter selection concepts.  In this notebook I will show\n",
    "- pipelines\n",
    "- cross validation and hyperparameter optimization with one parameter at a time\n",
    "- cross validation and hyperparameter optimization through grid search"
   ]
  },
  {
   "cell_type": "code",
   "execution_count": 1,
   "outputs": [],
   "source": [
    "import sklearn.datasets\n",
    "from IPython.core.display import display\n",
    "from sklearn.model_selection import train_test_split\n",
    "import matplotlib.pyplot as plt\n",
    "from sklearn.preprocessing import PolynomialFeatures\n",
    "from sklearn.linear_model import Lasso, Ridge, LinearRegression\n",
    "from sklearn.preprocessing import StandardScaler\n",
    "import pandas as pd\n",
    "import numpy as np\n",
    "from sklearn.model_selection import KFold\n",
    "from sklearn.pipeline import Pipeline\n",
    "from sklearn.compose import TransformedTargetRegressor\n",
    "from sklearn.model_selection import validation_curve\n",
    "from sklearn.model_selection import GridSearchCV\n",
    "from sklearn.metrics import mean_squared_error, r2_score\n",
    "\n",
    "from math import sqrt\n",
    "\n",
    "plt.style.use('dark_background')"
   ],
   "metadata": {
    "collapsed": false,
    "pycharm": {
     "name": "#%%\n"
    }
   }
  },
  {
   "cell_type": "markdown",
   "source": [
    "## Load the data"
   ],
   "metadata": {
    "collapsed": false,
    "pycharm": {
     "name": "#%% md\n"
    }
   }
  },
  {
   "cell_type": "code",
   "execution_count": 2,
   "outputs": [],
   "source": [
    "db = sklearn.datasets.load_diabetes(as_frame=True)['frame']\n",
    "train, test = train_test_split(db, test_size=0.33, random_state=0)\n",
    "X_train = train.iloc[:, :-1]\n",
    "X_test = test.iloc[:, :-1]\n",
    "y_train = train['target']\n",
    "y_test = test['target']"
   ],
   "metadata": {
    "collapsed": false,
    "pycharm": {
     "name": "#%%\n"
    }
   }
  },
  {
   "cell_type": "markdown",
   "source": [
    "## Create the model development [pipeline](https://scikit-learn.org/stable/modules/compose.html):\n",
    "1. Create polynomial features\n",
    "2. Normalize the features\n",
    "3. Perform a Lasso regression with normalized targets\n",
    "\n",
    "As mentioned in video...[validation_curve with error bars!](https://scikit-learn.org/stable/modules/learning_curve.html)"
   ],
   "metadata": {
    "collapsed": false,
    "pycharm": {
     "name": "#%% md\n"
    }
   }
  },
  {
   "cell_type": "code",
   "execution_count": 3,
   "outputs": [
    {
     "name": "stdout",
     "output_type": "stream",
     "text": [
      "{'poly__degree': 1, 'regr__regressor': Lasso(alpha=0.01, max_iter=100000), 'regr__regressor__alpha': 0.01}\n"
     ]
    }
   ],
   "source": [
    "pl = Pipeline([('poly', PolynomialFeatures()),\n",
    "               ('norm', StandardScaler()),\n",
    "               ('regr', TransformedTargetRegressor(transformer=StandardScaler()))])\n",
    "param_grid = [\n",
    "    {'poly__degree': [1, 2, 3, 4, 5, 6], 'regr__regressor': [Lasso(max_iter=100000)], 'regr__regressor__alpha': [0.001, 0.01, 0.1, 1]},\n",
    "    {'poly__degree': [1, 2, 3, 4, 5, 6], 'regr__regressor': [Ridge()], 'regr__regressor__alpha': [0.0001, 0.001, 0.01, 0.1, 1]},\n",
    "    {'poly__degree': [1, 2, 3, 4, 5, 6], 'regr__regressor': [LinearRegression()]}\n",
    "\n",
    "]\n",
    "model = GridSearchCV(pl, param_grid=param_grid, scoring='neg_mean_squared_error', n_jobs=-1)\n",
    "model.fit(X_train, y_train)\n",
    "print(model.best_params_)\n",
    "pred_train = model.predict(X_train)\n",
    "pred_test = model.predict(X_test)"
   ],
   "metadata": {
    "collapsed": false,
    "pycharm": {
     "name": "#%%\n"
    }
   }
  },
  {
   "cell_type": "code",
   "execution_count": 4,
   "outputs": [
    {
     "name": "stdout",
     "output_type": "stream",
     "text": [
      "Training RMSE:  52.65967800679518\n",
      "Training R2:  0.5565921845635585\n",
      "Test RMSE:  56.21374121526503\n",
      "Test R2:  0.4001855368866206\n"
     ]
    }
   ],
   "source": [
    "print(\"Training RMSE: \", sqrt(mean_squared_error(y_train, pred_train)))\n",
    "print(\"Training R2: \", r2_score(y_train, pred_train))\n",
    "print(\"Test RMSE: \", sqrt(mean_squared_error(y_test, pred_test)))\n",
    "print(\"Test R2: \", r2_score(y_test, pred_test))"
   ],
   "metadata": {
    "collapsed": false,
    "pycharm": {
     "name": "#%%\n"
    }
   }
  }
 ],
 "metadata": {
  "kernelspec": {
   "display_name": "Python 3",
   "language": "python",
   "name": "python3"
  },
  "language_info": {
   "codemirror_mode": {
    "name": "ipython",
    "version": 2
   },
   "file_extension": ".py",
   "mimetype": "text/x-python",
   "name": "python",
   "nbconvert_exporter": "python",
   "pygments_lexer": "ipython2",
   "version": "2.7.6"
  }
 },
 "nbformat": 4,
 "nbformat_minor": 0
}
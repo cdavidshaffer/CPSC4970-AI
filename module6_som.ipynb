{
 "cells": [
  {
   "cell_type": "markdown",
   "metadata": {
    "collapsed": true
   },
   "source": [
    "# CPSC 4970 AI + ML: Module 6 -- combining SOM with MLP\n",
    "\n",
    "[sklearn-som documentation](https://pypi.org/project/sklearn-som/)"
   ]
  },
  {
   "cell_type": "code",
   "execution_count": 7,
   "outputs": [],
   "source": [
    "import numpy as np\n",
    "from sklearn.datasets import load_iris\n",
    "from sklearn.model_selection import train_test_split\n",
    "from sklearn_som.som import SOM\n",
    "from sklearn.pipeline import Pipeline\n",
    "from sklearn.compose import make_column_transformer\n",
    "from sklearn.preprocessing import StandardScaler\n",
    "from sklearn.preprocessing import OneHotEncoder\n",
    "from sklearn.neural_network import MLPClassifier\n",
    "from sklearn.metrics import accuracy_score\n",
    "from sklearn.model_selection import GridSearchCV\n",
    "from sklearn.metrics import ConfusionMatrixDisplay"
   ],
   "metadata": {
    "collapsed": false
   }
  },
  {
   "cell_type": "markdown",
   "source": [
    "# Fit 5x5 SOM to Iris data set"
   ],
   "metadata": {
    "collapsed": false
   }
  },
  {
   "cell_type": "code",
   "execution_count": 8,
   "outputs": [
    {
     "name": "stdout",
     "output_type": "stream",
     "text": [
      "(150, 5)\n",
      "Index(['sepal length (cm)', 'sepal width (cm)', 'petal length (cm)',\n",
      "       'petal width (cm)', 'target'],\n",
      "      dtype='object')\n"
     ]
    }
   ],
   "source": [
    "df = load_iris(as_frame=True)['frame']\n",
    "print(df.shape)\n",
    "print(df.columns)"
   ],
   "metadata": {
    "collapsed": false
   }
  },
  {
   "cell_type": "code",
   "execution_count": 9,
   "outputs": [],
   "source": [
    "X_train, X_test, y_train, y_test = train_test_split(df.iloc[:, 0:-1], df['target'])"
   ],
   "metadata": {
    "collapsed": false
   }
  },
  {
   "cell_type": "code",
   "execution_count": 10,
   "outputs": [
    {
     "name": "stdout",
     "output_type": "stream",
     "text": [
      "[17 18 14 11  8 19  6  1 17  1  9  9  1  4  3 12  0 12  0  0  9  6  1 23\n",
      " 12 18 14  6  1 12 14 14  6 14 13  8 14  3  9  9  0  4 18  3 19 18  3  1\n",
      "  9  0  8 13 19 14  9  2  2 13 19 18  9 14  1  1  9  0  1 18  1 14  3 19\n",
      " 13  6 17 17  0 17  1  9  1  0  1 14  5  6 22  1  0  9 18  1 19 19 14  0\n",
      " 23  9  1 22 13  1 13  1 19 12  8  6  3  1  9  0]\n"
     ]
    }
   ],
   "source": [
    "som = SOM(m=5, n=5, dim=df.shape[1]-1)\n",
    "som.fit(X_train.values)\n",
    "print(som.predict(X_train.values))"
   ],
   "metadata": {
    "collapsed": false
   }
  },
  {
   "cell_type": "code",
   "execution_count": 11,
   "outputs": [
    {
     "name": "stdout",
     "output_type": "stream",
     "text": [
      "(112, 4)\n",
      "(112, 5)\n",
      "(38, 4)\n",
      "(38, 5)\n",
      "Training accuracy: 1.0\n",
      "Testing accuracy: 0.8947368421052632\n"
     ]
    }
   ],
   "source": [
    "aug_X_train = np.append(X_train, som.predict(X_train.values).reshape(-1, 1), axis=1)\n",
    "print(X_train.shape)\n",
    "print(aug_X_train.shape)\n",
    "aug_X_test = np.append(X_test, som.predict(X_test.values).reshape(-1, 1), axis=1)\n",
    "print(X_test.shape)\n",
    "print(aug_X_test.shape)\n",
    "\n",
    "pipeline = Pipeline(\n",
    "    [('preproc', make_column_transformer(\n",
    "        (OneHotEncoder(handle_unknown='ignore'), [aug_X_train.shape[1]-1]),\n",
    "        (StandardScaler(), slice(0, aug_X_train.shape[1]-1)))),\n",
    "     ('classifier', MLPClassifier(max_iter=2000))]\n",
    ")\n",
    "\n",
    "cv_params = {\n",
    "    'classifier__hidden_layer_sizes': [(10, ), (20, ), (40, ), (80, ),\n",
    "                                       (10, 5), (20, 10), (40, 20), (80, 40)],\n",
    "    'classifier__alpha': [0.0001, 0.001, 0.01, 0.1, 0.2, 0.4]\n",
    "}\n",
    "\n",
    "cv = GridSearchCV(pipeline, cv_params, n_jobs=-1)\n",
    "cv.fit(aug_X_train, y_train)\n",
    "print(\"Training accuracy:\", accuracy_score(y_train, cv.predict(aug_X_train)))\n",
    "print(\"Testing accuracy:\", accuracy_score(y_test, cv.predict(aug_X_test)))"
   ],
   "metadata": {
    "collapsed": false
   }
  },
  {
   "cell_type": "code",
   "execution_count": 12,
   "outputs": [
    {
     "name": "stdout",
     "output_type": "stream",
     "text": [
      "{'classifier__alpha': 0.0001, 'classifier__hidden_layer_sizes': (80, 40)}\n"
     ]
    },
    {
     "data": {
      "text/plain": "<sklearn.metrics._plot.confusion_matrix.ConfusionMatrixDisplay at 0x1454769b0>"
     },
     "execution_count": 12,
     "metadata": {},
     "output_type": "execute_result"
    },
    {
     "data": {
      "text/plain": "<Figure size 640x480 with 2 Axes>",
      "image/png": "[encoded data removed]"
     },
     "metadata": {},
     "output_type": "display_data"
    }
   ],
   "source": [
    "print(cv.best_params_)\n",
    "ConfusionMatrixDisplay.from_estimator(cv, aug_X_test, y_test)"
   ],
   "metadata": {
    "collapsed": false
   }
  }
 ],
 "metadata": {
  "kernelspec": {
   "display_name": "Python 3",
   "language": "python",
   "name": "python3"
  },
  "language_info": {
   "codemirror_mode": {
    "name": "ipython",
    "version": 2
   },
   "file_extension": ".py",
   "mimetype": "text/x-python",
   "name": "python",
   "nbconvert_exporter": "python",
   "pygments_lexer": "ipython2",
   "version": "2.7.6"
  }
 },
 "nbformat": 4,
 "nbformat_minor": 0
}

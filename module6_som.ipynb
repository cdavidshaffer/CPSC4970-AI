{
 "cells": [
  {
   "cell_type": "markdown",
   "metadata": {
    "collapsed": true,
    "pycharm": {
     "name": "#%% md\n"
    }
   },
   "source": [
    "# CPSC 4970 AI + ML: Module 6 -- combining SOM with MLP\n",
    "\n",
    "[sklearn-som documentation](https://pypi.org/project/sklearn-som/)"
   ]
  },
  {
   "cell_type": "code",
   "execution_count": 1,
   "outputs": [],
   "source": [
    "import numpy as np\n",
    "from sklearn.datasets import load_iris\n",
    "from sklearn.model_selection import train_test_split\n",
    "from sklearn_som.som import SOM\n",
    "from sklearn.pipeline import Pipeline\n",
    "from sklearn.compose import make_column_transformer\n",
    "from sklearn.preprocessing import StandardScaler\n",
    "from sklearn.preprocessing import OneHotEncoder\n",
    "from sklearn.neural_network import MLPClassifier\n",
    "from sklearn.metrics import accuracy_score\n",
    "from sklearn.model_selection import GridSearchCV"
   ],
   "metadata": {
    "collapsed": false,
    "pycharm": {
     "name": "#%%\n"
    }
   }
  },
  {
   "cell_type": "markdown",
   "source": [
    "# Fit 5x5 SOM to Iris data set"
   ],
   "metadata": {
    "collapsed": false,
    "pycharm": {
     "name": "#%% md\n"
    }
   }
  },
  {
   "cell_type": "code",
   "execution_count": 2,
   "outputs": [
    {
     "name": "stdout",
     "output_type": "stream",
     "text": [
      "(150, 5)\n",
      "Index(['sepal length (cm)', 'sepal width (cm)', 'petal length (cm)',\n",
      "       'petal width (cm)', 'target'],\n",
      "      dtype='object')\n"
     ]
    }
   ],
   "source": [
    "df = load_iris(as_frame=True)['frame']\n",
    "print(df.shape)\n",
    "print(df.columns)"
   ],
   "metadata": {
    "collapsed": false,
    "pycharm": {
     "name": "#%%\n"
    }
   }
  },
  {
   "cell_type": "code",
   "execution_count": 3,
   "outputs": [],
   "source": [
    "X_train, X_test, y_train, y_test = train_test_split(df.iloc[:, 0:-1], df['target'])"
   ],
   "metadata": {
    "collapsed": false,
    "pycharm": {
     "name": "#%%\n"
    }
   }
  },
  {
   "cell_type": "code",
   "execution_count": 4,
   "outputs": [
    {
     "name": "stdout",
     "output_type": "stream",
     "text": [
      "[ 5 16  9 10 14  6  5 12 12 17  6 16  5  9 14 10 19  9  6 15  9 14 22 14\n",
      "  9 17 14 17  9 21 22  9 14 19 10 16  0 12 14  9 10  9  6  9 10 10 14 10\n",
      " 19 21 10 22 22  6  9 10 14 15  6 22 19 10 17 14  5  9 12 14  6 14 21  5\n",
      " 21 14 22 20 17 10 12  0  0  0 12 21 19 12  2 10 15 20  6  0 20 11 14 12\n",
      " 14 22 16  2 23 14  6 17 15  9  9 16  9  9 14  1]\n"
     ]
    }
   ],
   "source": [
    "som = SOM(m=5, n=5, dim=df.shape[1]-1)\n",
    "som.fit(X_train.values)\n",
    "print(som.predict(X_train.values))"
   ],
   "metadata": {
    "collapsed": false,
    "pycharm": {
     "name": "#%%\n"
    }
   }
  },
  {
   "cell_type": "code",
   "execution_count": 5,
   "outputs": [
    {
     "name": "stdout",
     "output_type": "stream",
     "text": [
      "(112, 4)\n",
      "(112, 5)\n",
      "(38, 4)\n",
      "(38, 5)\n"
     ]
    },
    {
     "name": "stderr",
     "output_type": "stream",
     "text": [
      "/Users/shaffer/Courses/CPSC4973ArtificialIntelligence/Code/Live/venv/lib/python3.9/site-packages/sklearn/neural_network/_multilayer_perceptron.py:614: ConvergenceWarning: Stochastic Optimizer: Maximum iterations (2000) reached and the optimization hasn't converged yet.\n",
      "  warnings.warn(\n"
     ]
    },
    {
     "name": "stdout",
     "output_type": "stream",
     "text": [
      "Training accuracy: 0.9910714285714286\n",
      "Testing accuracy: 0.9473684210526315\n"
     ]
    }
   ],
   "source": [
    "aug_X_train = np.append(X_train, som.predict(X_train.values).reshape(-1, 1), axis=1)\n",
    "print(X_train.shape)\n",
    "print(aug_X_train.shape)\n",
    "aug_X_test = np.append(X_test, som.predict(X_test.values).reshape(-1, 1), axis=1)\n",
    "print(X_test.shape)\n",
    "print(aug_X_test.shape)\n",
    "\n",
    "pipeline = Pipeline(\n",
    "    [('preproc', make_column_transformer(\n",
    "        (OneHotEncoder(handle_unknown='ignore'), [aug_X_train.shape[1]-1]),\n",
    "        (StandardScaler(), slice(0, aug_X_train.shape[1]-1)))),\n",
    "     ('classifier', MLPClassifier(max_iter=2000))]\n",
    ")\n",
    "\n",
    "cv_params = {\n",
    "    'classifier__hidden_layer_sizes': [(10, ), (20, ), (40, ), (80, ),\n",
    "                                       (10, 5), (20, 10), (40, 20), (80, 40)],\n",
    "    'classifier__alpha': [0.0001, 0.001, 0.01, 0.1, 0.2, 0.4]\n",
    "}\n",
    "\n",
    "cv = GridSearchCV(pipeline, cv_params, n_jobs=-1)\n",
    "cv.fit(aug_X_train, y_train)\n",
    "print(\"Training accuracy:\", accuracy_score(y_train, cv.predict(aug_X_train)))\n",
    "print(\"Testing accuracy:\", accuracy_score(y_test, cv.predict(aug_X_test)))"
   ],
   "metadata": {
    "collapsed": false,
    "pycharm": {
     "name": "#%%\n"
    }
   }
  },
  {
   "cell_type": "code",
   "execution_count": 9,
   "outputs": [
    {
     "name": "stdout",
     "output_type": "stream",
     "text": [
      "{'classifier__alpha': 0.01, 'classifier__hidden_layer_sizes': (20,)}\n"
     ]
    },
    {
     "data": {
      "text/plain": "<sklearn.metrics._plot.confusion_matrix.ConfusionMatrixDisplay at 0x7f9910e105b0>"
     },
     "execution_count": 9,
     "metadata": {},
     "output_type": "execute_result"
    },
    {
     "data": {
      "text/plain": "<Figure size 432x288 with 2 Axes>",
      "image/png": "[encoded data removed]"
     },
     "metadata": {
      "needs_background": "light"
     },
     "output_type": "display_data"
    }
   ],
   "source": [
    "from sklearn.metrics import plot_confusion_matrix\n",
    "print(cv.best_params_)\n",
    "plot_confusion_matrix(cv, aug_X_test, y_test)"
   ],
   "metadata": {
    "collapsed": false,
    "pycharm": {
     "name": "#%%\n"
    }
   }
  }
 ],
 "metadata": {
  "kernelspec": {
   "display_name": "Python 3",
   "language": "python",
   "name": "python3"
  },
  "language_info": {
   "codemirror_mode": {
    "name": "ipython",
    "version": 2
   },
   "file_extension": ".py",
   "mimetype": "text/x-python",
   "name": "python",
   "nbconvert_exporter": "python",
   "pygments_lexer": "ipython2",
   "version": "2.7.6"
  }
 },
 "nbformat": 4,
 "nbformat_minor": 0
}